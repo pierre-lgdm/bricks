## Calcul d'un mur en maçonnerie
